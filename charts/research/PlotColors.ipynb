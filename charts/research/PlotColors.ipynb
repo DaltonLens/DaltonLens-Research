{
 "cells": [
  {
   "cell_type": "code",
   "execution_count": 1,
   "metadata": {},
   "outputs": [
    {
     "name": "stdout",
     "output_type": "stream",
     "text": [
      "['#1f77b4', '#ff7f0e', '#2ca02c', '#d62728', '#9467bd', '#8c564b', '#e377c2', '#7f7f7f', '#bcbd22', '#17becf']\n"
     ]
    }
   ],
   "source": [
    "import matplotlib.pyplot as plt\n",
    "print(plt.rcParams['axes.prop_cycle'].by_key()['color'])"
   ]
  },
  {
   "cell_type": "code",
   "execution_count": 10,
   "metadata": {},
   "outputs": [
    {
     "data": {
      "text/plain": [
       "array([[204.56375839,  82.77777778,  70.58823529],\n",
       "       [ 28.13278008,  94.50980392, 100.        ],\n",
       "       [120.        ,  72.5       ,  62.74509804],\n",
       "       [359.65714286,  81.77570093,  83.92156863],\n",
       "       [271.39534884,  45.5026455 ,  74.11764706],\n",
       "       [ 10.15384615,  46.42857143,  54.90196078],\n",
       "       [318.33333333,  47.57709251,  89.01960784],\n",
       "       [  0.        ,   0.        ,  49.80392157],\n",
       "       [ 60.38709677,  82.01058201,  74.11764706],\n",
       "       [185.54347826,  88.88888889,  81.17647059]])"
      ]
     },
     "metadata": {},
     "output_type": "display_data"
    }
   ],
   "source": [
    "import matplotlib\n",
    "import numpy as np\n",
    "\n",
    "rgb_colors = [matplotlib.colors.to_rgb(c) for c in matplotlib.pyplot.rcParams['axes.prop_cycle'].by_key()['color']]\n",
    "hsv_colors = [matplotlib.colors.rgb_to_hsv(rgb) for rgb in rgb_colors]\n",
    "display(np.multiply(hsv_colors, np.array([360.0, 100.0, 100.0])))"
   ]
  },
  {
   "cell_type": "code",
   "execution_count": 4,
   "metadata": {},
   "outputs": [
    {
     "name": "stdout",
     "output_type": "stream",
     "text": [
      "\u001b[0;31mSignature:\u001b[0m \u001b[0mmatplotlib\u001b[0m\u001b[0;34m.\u001b[0m\u001b[0mcolors\u001b[0m\u001b[0;34m.\u001b[0m\u001b[0mrgb_to_hsv\u001b[0m\u001b[0;34m(\u001b[0m\u001b[0marr\u001b[0m\u001b[0;34m)\u001b[0m\u001b[0;34m\u001b[0m\u001b[0;34m\u001b[0m\u001b[0m\n",
      "\u001b[0;31mDocstring:\u001b[0m\n",
      "Convert float rgb values (in the range [0, 1]), in a numpy array to hsv\n",
      "values.\n",
      "\n",
      "Parameters\n",
      "----------\n",
      "arr : (..., 3) array-like\n",
      "   All values must be in the range [0, 1]\n",
      "\n",
      "Returns\n",
      "-------\n",
      "(..., 3) ndarray\n",
      "   Colors converted to hsv values in range [0, 1]\n",
      "\u001b[0;31mFile:\u001b[0m      ~/Perso/DaltonLensPrivate/venv/lib/python3.8/site-packages/matplotlib/colors.py\n",
      "\u001b[0;31mType:\u001b[0m      function\n"
     ]
    }
   ],
   "source": [
    "matplotlib.colors.rgb_to_hsv?"
   ]
  },
  {
   "cell_type": "code",
   "execution_count": null,
   "metadata": {},
   "outputs": [],
   "source": []
  }
 ],
 "metadata": {
  "interpreter": {
   "hash": "016a8caea8d0bcbcb0f585ee40a090ed0405075dd6b5b528270a2e6b8c256090"
  },
  "kernelspec": {
   "display_name": "Python 3.8.10 64-bit ('venv': venv)",
   "language": "python",
   "name": "python3"
  },
  "language_info": {
   "codemirror_mode": {
    "name": "ipython",
    "version": 3
   },
   "file_extension": ".py",
   "mimetype": "text/x-python",
   "name": "python",
   "nbconvert_exporter": "python",
   "pygments_lexer": "ipython3",
   "version": "3.8.10"
  },
  "orig_nbformat": 4
 },
 "nbformat": 4,
 "nbformat_minor": 2
}
