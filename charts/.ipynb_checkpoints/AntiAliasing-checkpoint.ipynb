{
 "cells": [
  {
   "cell_type": "code",
   "execution_count": 1,
   "metadata": {},
   "outputs": [],
   "source": [
    "import sys\n",
    "import os\n",
    "import PIL\n",
    "import numpy as np\n",
    "from numpy.linalg import norm\n",
    "from math import *\n",
    "from scipy import ndimage\n",
    "from scipy import misc\n",
    "import skimage\n",
    "\n",
    "from sympy import *\n",
    "\n",
    "%matplotlib inline \n",
    "import matplotlib.pyplot as plt\n"
   ]
  },
  {
   "cell_type": "code",
   "execution_count": 3,
   "metadata": {},
   "outputs": [
    {
     "name": "stdout",
     "output_type": "stream",
     "text": [
      "{(255*a0 + r0 - 255)/a0}\n",
      "Eq(r1, -255*a1 + 255 + a1*(255*a0 + r0 - 255)/a0)\n",
      "{a0*(r1 - 255)/(r0 - 255)}\n",
      "(g0*r1 - 255*g0 + 255*r0 - 255*r1)/(r0 - 255)\n",
      "===\n"
     ]
    }
   ],
   "source": [
    "def estimateModelAttempt1():\n",
    "    r,g = symbols('r g')\n",
    "    a0,r0,g0 = symbols('a0 r0 g0')\n",
    "    a1,r1,g1 = symbols('a1 r1 g1')\n",
    "    \n",
    "    print (solveset(Eq(r0, a0*r + (1-a0)*255), r))\n",
    "    \n",
    "    # r as a function of a0, r0\n",
    "    # Eq(r, rFromA0R0)\n",
    "    rFromA0R0 = (255*a0 + r0 - 255)/a0\n",
    "    \n",
    "    print (Eq(r1, a1*r + (1-a1)*255).subs(r, rFromA0R0))\n",
    "    # r1 as a function of a0, r0, a1\n",
    "    # Eq(r1, r1FromA0R0A1)\n",
    "    r1FromA0R0A1 = -255*a1 + 255 + a1*(255*a0 + r0 - 255)/a0\n",
    "    \n",
    "    # Similarly, g1 as a function of a0, g0, a1\n",
    "    # Eq(g1, g1FromA0R0A1)\n",
    "    g1FromA0G0A1 = -255*a1 + 255 + a1*(255*a0 + g0 - 255)/a0\n",
    "    \n",
    "    print (solveset(Eq(r1, r1FromA0R0A1), a1))\n",
    "    a1FromA0R0R1 = a0*(r1 - 255)/(r0 - 255)\n",
    "    \n",
    "    g1FromA0G0R0R1 = simplify(g1FromA0G0A1.subs(a1, a1FromA0R0R1))\n",
    "    print (g1FromA0G0R0R1)\n",
    "    # a0 disappears!\n",
    "    g1FromA0G0R0R1 = (g0*r1 - 255*g0 + 255*r0 - 255*r1)/(r0 - 255)\n",
    "    \n",
    "    print ('===')\n",
    "    \n",
    "estimateModelAttempt1()\n"
   ]
  },
  {
   "cell_type": "code",
   "execution_count": 4,
   "metadata": {},
   "outputs": [
    {
     "name": "stdout",
     "output_type": "stream",
     "text": [
      "g1FromR =  238.76530612244898\n",
      "g1FromB =  239.36363636363637\n",
      "b1FromR =  250.8469387755102\n",
      "b1FromG =  250.90697674418604\n",
      "r1FromG =  218.53488372093022\n",
      "r1FromB =  219.36363636363637\n"
     ]
    }
   ],
   "source": [
    "def testModel1():\n",
    "    r0,g0,b0 = (157.,212.,244.)\n",
    "    r1,g1,b1 = (218.,239.,251.)\n",
    "    print ('g1FromR = ', (g0*r1 - 255*g0 + 255*r0 - 255*r1)/(r0 - 255))\n",
    "    print ('g1FromB = ', (g0*b1 - 255*g0 + 255*b0 - 255*b1)/(b0 - 255))\n",
    "    print ('b1FromR = ', (b0*r1 - 255*b0 + 255*r0 - 255*r1)/(r0 - 255))\n",
    "    print ('b1FromG = ', (b0*g1 - 255*b0 + 255*g0 - 255*g1)/(g0 - 255))\n",
    "    print ('r1FromG = ', (r0*g1 - 255*r0 + 255*g0 - 255*g1)/(g0 - 255))\n",
    "    print ('r1FromB = ', (r0*b1 - 255*r0 + 255*b0 - 255*b1)/(b0 - 255))    \n",
    "    \n",
    "testModel1()"
   ]
  },
  {
   "cell_type": "code",
   "execution_count": 5,
   "metadata": {},
   "outputs": [
    {
     "name": "stdout",
     "output_type": "stream",
     "text": [
      "g1FromR =  255.0\n",
      "b1FromR =  255.0\n"
     ]
    },
    {
     "ename": "ZeroDivisionError",
     "evalue": "float division by zero",
     "output_type": "error",
     "traceback": [
      "\u001b[0;31m---------------------------------------------------------------------------\u001b[0m",
      "\u001b[0;31mZeroDivisionError\u001b[0m                         Traceback (most recent call last)",
      "\u001b[0;32m<ipython-input-5-a8e45b134af7>\u001b[0m in \u001b[0;36m<module>\u001b[0;34m()\u001b[0m\n\u001b[1;32m      7\u001b[0m     \u001b[0mprint\u001b[0m \u001b[0;34m(\u001b[0m\u001b[0;34m'r1FromG = '\u001b[0m\u001b[0;34m,\u001b[0m \u001b[0;34m(\u001b[0m\u001b[0mr0\u001b[0m\u001b[0;34m*\u001b[0m\u001b[0mg1\u001b[0m \u001b[0;34m-\u001b[0m \u001b[0;36m255\u001b[0m\u001b[0;34m*\u001b[0m\u001b[0mr0\u001b[0m \u001b[0;34m+\u001b[0m \u001b[0;36m255\u001b[0m\u001b[0;34m*\u001b[0m\u001b[0mg0\u001b[0m \u001b[0;34m-\u001b[0m \u001b[0;36m255\u001b[0m\u001b[0;34m*\u001b[0m\u001b[0mg1\u001b[0m\u001b[0;34m)\u001b[0m\u001b[0;34m/\u001b[0m\u001b[0;34m(\u001b[0m\u001b[0mg0\u001b[0m \u001b[0;34m-\u001b[0m \u001b[0;36m255\u001b[0m\u001b[0;34m)\u001b[0m\u001b[0;34m)\u001b[0m\u001b[0;34m\u001b[0m\u001b[0m\n\u001b[1;32m      8\u001b[0m \u001b[0;34m\u001b[0m\u001b[0m\n\u001b[0;32m----> 9\u001b[0;31m \u001b[0mtestModel1_2\u001b[0m\u001b[0;34m(\u001b[0m\u001b[0;34m)\u001b[0m\u001b[0;34m\u001b[0m\u001b[0m\n\u001b[0m",
      "\u001b[0;32m<ipython-input-5-a8e45b134af7>\u001b[0m in \u001b[0;36mtestModel1_2\u001b[0;34m()\u001b[0m\n\u001b[1;32m      4\u001b[0m     \u001b[0mprint\u001b[0m \u001b[0;34m(\u001b[0m\u001b[0;34m'g1FromR = '\u001b[0m\u001b[0;34m,\u001b[0m \u001b[0;34m(\u001b[0m\u001b[0mg0\u001b[0m\u001b[0;34m*\u001b[0m\u001b[0mr1\u001b[0m \u001b[0;34m-\u001b[0m \u001b[0;36m255\u001b[0m\u001b[0;34m*\u001b[0m\u001b[0mg0\u001b[0m \u001b[0;34m+\u001b[0m \u001b[0;36m255\u001b[0m\u001b[0;34m*\u001b[0m\u001b[0mr0\u001b[0m \u001b[0;34m-\u001b[0m \u001b[0;36m255\u001b[0m\u001b[0;34m*\u001b[0m\u001b[0mr1\u001b[0m\u001b[0;34m)\u001b[0m\u001b[0;34m/\u001b[0m\u001b[0;34m(\u001b[0m\u001b[0mr0\u001b[0m \u001b[0;34m-\u001b[0m \u001b[0;36m255\u001b[0m\u001b[0;34m)\u001b[0m\u001b[0;34m)\u001b[0m\u001b[0;34m\u001b[0m\u001b[0m\n\u001b[1;32m      5\u001b[0m     \u001b[0mprint\u001b[0m \u001b[0;34m(\u001b[0m\u001b[0;34m'b1FromR = '\u001b[0m\u001b[0;34m,\u001b[0m \u001b[0;34m(\u001b[0m\u001b[0mb0\u001b[0m\u001b[0;34m*\u001b[0m\u001b[0mr1\u001b[0m \u001b[0;34m-\u001b[0m \u001b[0;36m255\u001b[0m\u001b[0;34m*\u001b[0m\u001b[0mb0\u001b[0m \u001b[0;34m+\u001b[0m \u001b[0;36m255\u001b[0m\u001b[0;34m*\u001b[0m\u001b[0mr0\u001b[0m \u001b[0;34m-\u001b[0m \u001b[0;36m255\u001b[0m\u001b[0;34m*\u001b[0m\u001b[0mr1\u001b[0m\u001b[0;34m)\u001b[0m\u001b[0;34m/\u001b[0m\u001b[0;34m(\u001b[0m\u001b[0mr0\u001b[0m \u001b[0;34m-\u001b[0m \u001b[0;36m255\u001b[0m\u001b[0;34m)\u001b[0m\u001b[0;34m)\u001b[0m\u001b[0;34m\u001b[0m\u001b[0m\n\u001b[0;32m----> 6\u001b[0;31m     \u001b[0mprint\u001b[0m \u001b[0;34m(\u001b[0m\u001b[0;34m'b1FromG = '\u001b[0m\u001b[0;34m,\u001b[0m \u001b[0;34m(\u001b[0m\u001b[0mb0\u001b[0m\u001b[0;34m*\u001b[0m\u001b[0mg1\u001b[0m \u001b[0;34m-\u001b[0m \u001b[0;36m255\u001b[0m\u001b[0;34m*\u001b[0m\u001b[0mb0\u001b[0m \u001b[0;34m+\u001b[0m \u001b[0;36m255\u001b[0m\u001b[0;34m*\u001b[0m\u001b[0mg0\u001b[0m \u001b[0;34m-\u001b[0m \u001b[0;36m255\u001b[0m\u001b[0;34m*\u001b[0m\u001b[0mg1\u001b[0m\u001b[0;34m)\u001b[0m\u001b[0;34m/\u001b[0m\u001b[0;34m(\u001b[0m\u001b[0mg0\u001b[0m \u001b[0;34m-\u001b[0m \u001b[0;36m255\u001b[0m\u001b[0;34m)\u001b[0m\u001b[0;34m)\u001b[0m\u001b[0;34m\u001b[0m\u001b[0m\n\u001b[0m\u001b[1;32m      7\u001b[0m     \u001b[0mprint\u001b[0m \u001b[0;34m(\u001b[0m\u001b[0;34m'r1FromG = '\u001b[0m\u001b[0;34m,\u001b[0m \u001b[0;34m(\u001b[0m\u001b[0mr0\u001b[0m\u001b[0;34m*\u001b[0m\u001b[0mg1\u001b[0m \u001b[0;34m-\u001b[0m \u001b[0;36m255\u001b[0m\u001b[0;34m*\u001b[0m\u001b[0mr0\u001b[0m \u001b[0;34m+\u001b[0m \u001b[0;36m255\u001b[0m\u001b[0;34m*\u001b[0m\u001b[0mg0\u001b[0m \u001b[0;34m-\u001b[0m \u001b[0;36m255\u001b[0m\u001b[0;34m*\u001b[0m\u001b[0mg1\u001b[0m\u001b[0;34m)\u001b[0m\u001b[0;34m/\u001b[0m\u001b[0;34m(\u001b[0m\u001b[0mg0\u001b[0m \u001b[0;34m-\u001b[0m \u001b[0;36m255\u001b[0m\u001b[0;34m)\u001b[0m\u001b[0;34m)\u001b[0m\u001b[0;34m\u001b[0m\u001b[0m\n\u001b[1;32m      8\u001b[0m \u001b[0;34m\u001b[0m\u001b[0m\n",
      "\u001b[0;31mZeroDivisionError\u001b[0m: float division by zero"
     ]
    }
   ],
   "source": [
    "def testModel1_2():\n",
    "    r0,g0,b0 = (127.,255.,255.)\n",
    "    r1,g1,b1 = (255.,255.,255.)\n",
    "    print ('g1FromR = ', (g0*r1 - 255*g0 + 255*r0 - 255*r1)/(r0 - 255))\n",
    "    print ('b1FromR = ', (b0*r1 - 255*b0 + 255*r0 - 255*r1)/(r0 - 255))\n",
    "    print ('b1FromG = ', (b0*g1 - 255*b0 + 255*g0 - 255*g1)/(g0 - 255))\n",
    "    print ('r1FromG = ', (r0*g1 - 255*r0 + 255*g0 - 255*g1)/(g0 - 255))\n",
    "    \n",
    "testModel1_2()"
   ]
  },
  {
   "cell_type": "code",
   "execution_count": 7,
   "metadata": {},
   "outputs": [
    {
     "name": "stdout",
     "output_type": "stream",
     "text": [
      "(r - 255)/(g - 255)\n"
     ]
    }
   ],
   "source": [
    "def estimateSimplerModel():\n",
    "    r,g = symbols('r g')\n",
    "    a0,r0,g0 = symbols('a0 r0 g0')\n",
    "    a1,r1,g1 = symbols('a1 r1 g1')\n",
    "    \n",
    "    r0def = a0*r + (1-a0)*255\n",
    "    g0def = a0*g + (1-a0)*255\n",
    "\n",
    "    # Does not depend on a0, getting (r - 255)/(g - 255)\n",
    "    print (simplify((r0def-255)/(g0def-255)))\n",
    "    \n",
    "    # Conclusion 1: (r0-255)/(g0-255) = (r1-255)/(g1-255) if they come from the same color\n",
    "    # If the background was black, we'd get r0/g0 = r1/g1\n",
    "    \n",
    "    # Conclusion 2: we can't recover the true color and alpha values if the background\n",
    "    # is grayscale.    \n",
    "    \n",
    "estimateSimplerModel()\n"
   ]
  },
  {
   "cell_type": "code",
   "execution_count": 8,
   "metadata": {},
   "outputs": [
    {
     "name": "stdout",
     "output_type": "stream",
     "text": [
      "2.2790697674418605\n",
      "2.3125\n",
      "8.909090909090908\n",
      "9.25\n"
     ]
    }
   ],
   "source": [
    "def testSimpleModel():\n",
    "    r0,g0,b0 = (157.,212.,244.)\n",
    "    r1,g1,b1 = (218.,239.,251.)\n",
    "    \n",
    "    # Should be the same\n",
    "    print ((r0-255.)/(g0-255.))\n",
    "    print ((r1-255.)/(g1-255.))\n",
    "    \n",
    "    # Should be the same\n",
    "    print ((r0-255.)/(b0-255.))\n",
    "    print ((r1-255.)/(b1-255.))\n",
    "    \n",
    "testSimpleModel()"
   ]
  },
  {
   "cell_type": "code",
   "execution_count": 9,
   "metadata": {},
   "outputs": [
    {
     "name": "stdout",
     "output_type": "stream",
     "text": [
      "alphas0 [0.56321839 0.56578947 0.55      ]\n",
      "alphas1 [0.21264368 0.21052632 0.2       ]\n",
      "alphas2 [0.83333333 0.84210526 0.85      ]\n"
     ]
    }
   ],
   "source": [
    "def testColor0():\n",
    "    ref = np.array([81.,179.,235.])\n",
    "    v0 = np.array([157.,212.,244.])\n",
    "    v1 = np.array([218.,239.,251.])\n",
    "    v2 = np.array([110.,191.,238.])\n",
    "    \n",
    "    alphas0 = (v0 - 255) / (ref - 255)\n",
    "    alphas1 = (v1 - 255) / (ref - 255)\n",
    "    alphas2 = (v2 - 255) / (ref - 255)\n",
    "    print ('alphas0', alphas0)\n",
    "    print ('alphas1', alphas1)\n",
    "    print ('alphas2', alphas2)\n",
    "    \n",
    "    \n",
    "testColor0()\n"
   ]
  },
  {
   "cell_type": "code",
   "execution_count": 11,
   "metadata": {},
   "outputs": [
    {
     "name": "stdout",
     "output_type": "stream",
     "text": [
      "alphas0 [1. 1. 1.]\n",
      "alphas1 [0.83333333 0.69565217 0.67724868]\n",
      "g1FromR =  235.83333333333334\n",
      "g1FromB =  239.42328042328043\n",
      "b1FromR =  97.5\n",
      "b1FromG =  123.52173913043478\n",
      "r1FromG =  246.65217391304347\n",
      "r1FromB =  246.87301587301587\n"
     ]
    }
   ],
   "source": [
    "def linearToSrgb(L):\n",
    "    if L <= 0.0031308:\n",
    "        return L * 12.92 * 255.0\n",
    "    else: \n",
    "        return 255.0 * ((1.055 * L**0.41667) - 0.055)\n",
    "linearToSrgb = np.vectorize(linearToSrgb)\n",
    "\n",
    "def sRgbToLinearRgb(S):\n",
    "    S = S/255.0\n",
    "    if (S <= 0.04045):\n",
    "        return S/12.92\n",
    "    else: \n",
    "        return ((S+0.055)/1.055)**2.4\n",
    "sRgbToLinearRgb = np.vectorize(sRgbToLinearRgb)\n",
    "\n",
    "def testSrgbToLinear():\n",
    "    srgb0 = np.array([157.,212.,244.])\n",
    "    linear0 = sRgbToLinearRgb(srgb0)\n",
    "    srgba1 = linearToSrgb(linear0)\n",
    "    \n",
    "testSrgbToLinear()\n",
    "\n",
    "def testWithGamma1():\n",
    "    ref = np.array([241.,230.,42.])\n",
    "    v0 = np.array([243.,232.,66.])\n",
    "    v1 = np.array([245.,239.,127.])\n",
    "    \n",
    "    ref = v0\n",
    "    \n",
    "    #ref = sRgbToLinearRgb(ref)\n",
    "    #v0 = sRgbToLinearRgb(v0)\n",
    "    #v1 = sRgbToLinearRgb(v1)\n",
    "    \n",
    "    alphas0 = (v0 - 255) / (ref - 255)\n",
    "    alphas1 = (v1 - 255) / (ref - 255)\n",
    "    print ('alphas0', alphas0)\n",
    "    print ('alphas1', alphas1)\n",
    "    \n",
    "    r,g,b = ref\n",
    "    r0,g0,b0 = v0\n",
    "    r1,g1,b1 = v1\n",
    "    print ('g1FromR = ', (g*r1 - 255*g + 255*r - 255*r1)/(r - 255))\n",
    "    print ('g1FromB = ', (g*b1 - 255*g + 255*b - 255*b1)/(b - 255))\n",
    "    print ('b1FromR = ', (b*r1 - 255*b + 255*r - 255*r1)/(r - 255))\n",
    "    print ('b1FromG = ', (b*g1 - 255*b + 255*g - 255*g1)/(g - 255))\n",
    "    print ('r1FromG = ', (r*g1 - 255*r + 255*g - 255*g1)/(g - 255))\n",
    "    print ('r1FromB = ', (r*b1 - 255*r + 255*b - 255*b1)/(b - 255))\n",
    "    \n",
    "testWithGamma1()\n"
   ]
  },
  {
   "cell_type": "code",
   "execution_count": 12,
   "metadata": {},
   "outputs": [
    {
     "name": "stdout",
     "output_type": "stream",
     "text": [
      "alphas0 [0.99950433 0.99955244 0.9998078 ]\n",
      "alphas1 [0.999975  0.9999779 1.       ]\n",
      "g1FromR =  0.4571494495094825\n",
      "g1FromB =  0.45078578283822346\n",
      "b1FromR =  0.8371240439386314\n",
      "b1FromG =  0.8363867199121492\n",
      "r1FromG =  0.08791609095958862\n",
      "r1FromB =  0.08228270712981485\n"
     ]
    }
   ],
   "source": [
    "def testWithGamma2():\n",
    "    ref = np.array([81.,179.,235.])\n",
    "    v0 = np.array([126.,198.,241.])\n",
    "    v1 = np.array([84.,180.,235.])\n",
    "    \n",
    "    ref = sRgbToLinearRgb(ref)\n",
    "    v0 = sRgbToLinearRgb(v0)\n",
    "    v1 = sRgbToLinearRgb(v1)\n",
    "    \n",
    "    alphas0 = (v0 - 255) / (ref - 255)\n",
    "    alphas1 = (v1 - 255) / (ref - 255)\n",
    "    print ('alphas0', alphas0)\n",
    "    print ('alphas1', alphas1)\n",
    "    \n",
    "    r,g,b = ref\n",
    "    r0,g0,b0 = v0\n",
    "    r1,g1,b1 = v1\n",
    "    print ('g1FromR = ', (g*r1 - 255*g + 255*r - 255*r1)/(r - 255))\n",
    "    print ('g1FromB = ', (g*b1 - 255*g + 255*b - 255*b1)/(b - 255))\n",
    "    print ('b1FromR = ', (b*r1 - 255*b + 255*r - 255*r1)/(r - 255))\n",
    "    print ('b1FromG = ', (b*g1 - 255*b + 255*g - 255*g1)/(g - 255))\n",
    "    print ('r1FromG = ', (r*g1 - 255*r + 255*g - 255*g1)/(g - 255))\n",
    "    print ('r1FromB = ', (r*b1 - 255*r + 255*b - 255*b1)/(b - 255))\n",
    "\n",
    "testWithGamma2()\n"
   ]
  },
  {
   "cell_type": "code",
   "execution_count": 15,
   "metadata": {},
   "outputs": [
    {
     "ename": "NameError",
     "evalue": "name 'matplotlib' is not defined",
     "output_type": "error",
     "traceback": [
      "\u001b[0;31m---------------------------------------------------------------------------\u001b[0m",
      "\u001b[0;31mNameError\u001b[0m                                 Traceback (most recent call last)",
      "\u001b[0;32m<ipython-input-15-53a373cce5b5>\u001b[0m in \u001b[0;36m<module>\u001b[0;34m()\u001b[0m\n\u001b[1;32m     35\u001b[0m     \u001b[0;31m# plt.figure()\u001b[0m\u001b[0;34m\u001b[0m\u001b[0;34m\u001b[0m\u001b[0m\n\u001b[1;32m     36\u001b[0m \u001b[0;34m\u001b[0m\u001b[0m\n\u001b[0;32m---> 37\u001b[0;31m \u001b[0mtestPlotImage\u001b[0m\u001b[0;34m(\u001b[0m\u001b[0;34m)\u001b[0m\u001b[0;34m\u001b[0m\u001b[0m\n\u001b[0m",
      "\u001b[0;32m<ipython-input-15-53a373cce5b5>\u001b[0m in \u001b[0;36mtestPlotImage\u001b[0;34m()\u001b[0m\n\u001b[1;32m      4\u001b[0m     \u001b[0;31m# image = ndimage.io.imread('../DaltonLensTests/gnuplotLt5ScreenCaptureCropped.png')\u001b[0m\u001b[0;34m\u001b[0m\u001b[0;34m\u001b[0m\u001b[0m\n\u001b[1;32m      5\u001b[0m     \u001b[0;31m# image = ndimage.io.imread('../DaltonLensTests/ComplexPlotCropped2.png')\u001b[0m\u001b[0;34m\u001b[0m\u001b[0;34m\u001b[0m\u001b[0m\n\u001b[0;32m----> 6\u001b[0;31m     \u001b[0mimage\u001b[0m \u001b[0;34m=\u001b[0m \u001b[0mmatplotlib\u001b[0m\u001b[0;34m.\u001b[0m\u001b[0mpyplot\u001b[0m\u001b[0;34m.\u001b[0m\u001b[0mimread\u001b[0m\u001b[0;34m(\u001b[0m\u001b[0;34m'../DaltonLensTests/RandomPlotsCropped.png'\u001b[0m\u001b[0;34m)\u001b[0m\u001b[0;34m\u001b[0m\u001b[0m\n\u001b[0m\u001b[1;32m      7\u001b[0m     \u001b[0;31m# image = ndimage.io.imread('../DaltonLensTests/XcodeBackground.png')\u001b[0m\u001b[0;34m\u001b[0m\u001b[0;34m\u001b[0m\u001b[0m\n\u001b[1;32m      8\u001b[0m     \u001b[0mfloat_image\u001b[0m \u001b[0;34m=\u001b[0m \u001b[0mskimage\u001b[0m\u001b[0;34m.\u001b[0m\u001b[0mutil\u001b[0m\u001b[0;34m.\u001b[0m\u001b[0mdtype\u001b[0m\u001b[0;34m.\u001b[0m\u001b[0mimg_as_float\u001b[0m\u001b[0;34m(\u001b[0m\u001b[0mimage\u001b[0m\u001b[0;34m[\u001b[0m\u001b[0;34m:\u001b[0m\u001b[0;34m,\u001b[0m\u001b[0;34m:\u001b[0m\u001b[0;34m,\u001b[0m\u001b[0;36m0\u001b[0m\u001b[0;34m:\u001b[0m\u001b[0;36m3\u001b[0m\u001b[0;34m]\u001b[0m\u001b[0;34m)\u001b[0m\u001b[0;34m\u001b[0m\u001b[0m\n",
      "\u001b[0;31mNameError\u001b[0m: name 'matplotlib' is not defined"
     ]
    }
   ],
   "source": [
    "def testPlotImage():\n",
    "    # image = ndimage.io.imread('../DaltonLensTests/gnuplotLt5CairoCropped.png')\n",
    "    # image = ndimage.io.imread('../DaltonLensTests/gnuplotLt5Cropped.png')\n",
    "    # image = ndimage.io.imread('../DaltonLensTests/gnuplotLt5ScreenCaptureCropped.png')\n",
    "    # image = ndimage.io.imread('../DaltonLensTests/ComplexPlotCropped2.png')\n",
    "    image = plt.imread('../DaltonLensTests/RandomPlotsCropped.png')\n",
    "    # image = ndimage.io.imread('../DaltonLensTests/XcodeBackground.png')\n",
    "    float_image = skimage.util.dtype.img_as_float(image[:,:,0:3])\n",
    "    npix = float_image.shape[0]*float_image.shape[1]\n",
    "    float_image = float_image.reshape((npix,3))\n",
    "    print (float_image.shape)\n",
    "    plt.plot (255.0 - float_image[:,0]*255., 255.0 - float_image[:,1]*255., '.')\n",
    "    plt.axis([0, 255, 0, 255])    \n",
    "    plt.figure()\n",
    "    \n",
    "    plt.plot (255.0 - float_image[:,0]*255., 255.0 - float_image[:,2]*255., '.')\n",
    "    plt.axis([0, 255, 0, 255])    \n",
    "    plt.figure()\n",
    "    \n",
    "    plt.plot (255.0 - float_image[:,1]*255., 255.0 - float_image[:,2]*255., '.')\n",
    "    plt.axis([0, 255, 0, 255])    \n",
    "    plt.figure()\n",
    "    \n",
    "    # Algorithm IDEA:\n",
    "    # compute points (R-255, G-255), (R-255, B-255), (G-255, B-255)\n",
    "    # see if they are in the same line as the reference points (fit a line, distance to line < k)\n",
    "    # count the number of discriminant points (max 3). Values very close to 255 for every channel\n",
    "    # are not informative. Informative if min(R,G), min(R,B) or min(G,B) < e.g. 100\n",
    "    # if compatible and informative, mark as definitely a match\n",
    "    # if compatible and one neighbor is a match, accept it too\n",
    "    \n",
    "    # (b0*r1 - 255*b0 + 255*r0 - 255*r1)/(r0 - 255)\n",
    "    # ratios = (float_image[:,0]*255. - 255.0001)/(float_image[:,2]*255. - 255.0001)\n",
    "    # plt.plot (np.arange(0, npix, 1), ratios, '.')\n",
    "    # plt.figure()\n",
    "    \n",
    "testPlotImage()\n"
   ]
  },
  {
   "cell_type": "code",
   "execution_count": null,
   "metadata": {},
   "outputs": [],
   "source": [
    "from mpl_toolkits.mplot3d import Axes3D\n",
    "def plotUncertainty():\n",
    "    fig = plt.figure()\n",
    "    ax = fig.add_subplot(111, projection='3d')\n",
    "            \n",
    "    R = np.arange(0.0, 254.0, 1.0)\n",
    "    G = np.arange(0.0, 254.0, 1.0)\n",
    "    \n",
    "    R, G = np.meshgrid(R, G)\n",
    "    gamma = ((256.0-R)/(255.0-G)) - ((255.0-R)/(256.0-G))\n",
    "    ax.set_xlabel('R')\n",
    "    ax.set_ylabel('G')\n",
    "    ax.plot_surface(R, G, gamma, color='b')\n",
    "    \n",
    "plotUncertainty()"
   ]
  },
  {
   "cell_type": "code",
   "execution_count": null,
   "metadata": {},
   "outputs": [],
   "source": [
    "def gammaOf(R,G):\n",
    "    return ((256.0-R)/(255.0-G)) - ((255.0-R)/(256.0-G))\n",
    "gammaOf_ufunc = np.frompyfunc(gammaOf, 2, 1)\n",
    "\n",
    "def distFromOrigin(R,G):\n",
    "    return (255.0-R)/(255.0-G)**2\n",
    "\n",
    "def plotUncertaintyFromRatio():\n",
    "    R = np.arange(1.0, 254.0, 1.0)\n",
    "    G = np.arange(1.0, 254.0, 1.0)\n",
    "        \n",
    "    gamma = gammaOf_ufunc.outer(R,G).flatten()\n",
    "    print np.shape(gamma)\n",
    "    \n",
    "    rOverGValues = np.frompyfunc(distFromOrigin, 2, 1).outer(R,G).flatten()\n",
    "    print rOverGValues\n",
    "    print gamma\n",
    "    \n",
    "    plt.axis('auto')\n",
    "    plt.plot(rOverGValues.flatten(), gamma.flatten())\n",
    "    plt.figure()\n",
    "    \n",
    "plotUncertaintyFromRatio()"
   ]
  }
 ],
 "metadata": {
  "kernelspec": {
   "display_name": "Python 3",
   "language": "python",
   "name": "python3"
  },
  "language_info": {
   "codemirror_mode": {
    "name": "ipython",
    "version": 3
   },
   "file_extension": ".py",
   "mimetype": "text/x-python",
   "name": "python",
   "nbconvert_exporter": "python",
   "pygments_lexer": "ipython3",
   "version": "3.6.3"
  }
 },
 "nbformat": 4,
 "nbformat_minor": 1
}
