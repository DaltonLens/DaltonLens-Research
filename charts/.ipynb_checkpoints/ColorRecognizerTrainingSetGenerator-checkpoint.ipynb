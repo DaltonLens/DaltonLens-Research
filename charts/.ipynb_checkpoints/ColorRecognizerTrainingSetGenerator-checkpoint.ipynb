{
 "cells": [
  {
   "cell_type": "code",
   "execution_count": 1,
   "metadata": {},
   "outputs": [],
   "source": [
    "!pip install -q Pillow numpy matplotlib scipy scikit-image opencv-python"
   ]
  },
  {
   "cell_type": "code",
   "execution_count": 1,
   "metadata": {},
   "outputs": [],
   "source": [
    "import sys\n",
    "import os\n",
    "import itertools\n",
    "import random\n",
    "\n",
    "import PIL\n",
    "import numpy as np\n",
    "from numpy.linalg import norm\n",
    "from math import *\n",
    "from scipy import ndimage\n",
    "from scipy import misc\n",
    "\n",
    "%matplotlib inline\n",
    "import matplotlib.pyplot as plt\n",
    "import matplotlib\n",
    "\n",
    "from matplotlib.backends.backend_agg import FigureCanvasAgg as FigureCanvas\n",
    "from matplotlib.figure import Figure\n",
    "\n",
    "import cv2"
   ]
  },
  {
   "cell_type": "code",
   "execution_count": 2,
   "metadata": {},
   "outputs": [],
   "source": [
    "def setAxisColor(axisColor):\n",
    "    ax = plt.gca()\n",
    "    for child in ax.get_children():\n",
    "        if isinstance(child, matplotlib.spines.Spine):\n",
    "            child.set_color(axisColor)\n",
    "    ax.yaxis.label.set_color(axisColor)\n",
    "    ax.xaxis.label.set_color(axisColor)\n",
    "    ax.tick_params(axis='x', colors=axisColor)\n",
    "    ax.tick_params(axis='y', colors=axisColor)\n",
    "    \n",
    "def showImage(img):\n",
    "    fig = plt.figure()\n",
    "    plt.gca().axis('off')\n",
    "    plt.imshow (img)\n",
    "    plt.show()\n"
   ]
  },
  {
   "cell_type": "code",
   "execution_count": null,
   "metadata": {},
   "outputs": [
    {
     "name": "stdout",
     "output_type": "stream",
     "text": [
      "(180, 150, 120)\n",
      "(30, 30, 120)\n",
      "(0, 60, 150)\n",
      "(210, 150, 255)\n",
      "(60, 240, 30)\n",
      "(60, 150, 0)\n",
      "(60, 60, 240)\n",
      "(30, 120, 60)\n",
      "(210, 150, 120)\n",
      "(30, 0, 120)\n",
      "(180, 255, 60)\n",
      "(210, 150, 240)\n",
      "(255, 30, 90)\n",
      "(150, 150, 240)\n",
      "(0, 240, 255)\n",
      "(180, 0, 120)\n",
      "(120, 90, 60)\n",
      "(0, 90, 60)\n",
      "(0, 90, 0)\n",
      "(0, 255, 150)\n"
     ]
    }
   ],
   "source": [
    "x = np.linspace(0.0, 10.0, 100)\n",
    "y = np.sin(x*x)\n",
    "\n",
    "def genDataset(*, x, y, fig, fgcolor, prefix, linewidth=3.0, bgcolor='#ffffff'):\n",
    "    fig.clf()\n",
    "    canvas = FigureCanvas(fig)\n",
    "    plt.gca().axis('off')\n",
    "    #setAxisColor('#0000FF')\n",
    "    #plt.gca().patch.set_facecolor('red')\n",
    "    plt.plot(x, y, C=fgcolor, linewidth=linewidth)\n",
    "    canvas.draw()\n",
    "    w,h = canvas.get_width_height()\n",
    "    \n",
    "    fgImg2d = np.frombuffer(canvas.buffer_rgba(), dtype=np.uint8).reshape(h,w,4)\n",
    "    fgImg2d = cv2.cvtColor(fgImg2d, cv2.COLOR_RGB2BGR)\n",
    "    _, mask2d = cv2.threshold(cv2.cvtColor(fgImg2d, cv2.COLOR_BGR2GRAY),254,255,cv2.THRESH_BINARY)\n",
    "    mask2d = 255-mask2d\n",
    "\n",
    "    cv2.imwrite(prefix + '-input.png', fgImg2d)\n",
    "    cv2.imwrite(prefix + '-mask-01.png', mask2d)\n",
    "\n",
    "def colorFromRGB(r,g,b):\n",
    "    return '#%02x%02x%02x' % (r,g,b)\n",
    "    \n",
    "fig = plt.figure(dpi=200)\n",
    "\n",
    "Rvalues = list(range(0, 254, 30)) + [255]\n",
    "Gvalues = list(range(0, 254, 30)) + [255]\n",
    "Bvalues = list(range(0, 254, 30)) + [255]\n",
    "\n",
    "allColors = list(itertools.product(Rvalues, Gvalues, Bvalues))\n",
    "random.seed (42)\n",
    "trainingColors = random.sample(allColors, 50)\n",
    "\n",
    "for idx,RGB in enumerate(trainingColors):\n",
    "    print (RGB)\n",
    "    genDataset(x=x, y=y, fig=fig, fgcolor=colorFromRGB(*RGB), prefix='img-{:09d}'.format(idx))\n"
   ]
  }
 ],
 "metadata": {
  "kernelspec": {
   "display_name": "Python 3",
   "language": "python",
   "name": "python3"
  },
  "language_info": {
   "codemirror_mode": {
    "name": "ipython",
    "version": 3
   },
   "file_extension": ".py",
   "mimetype": "text/x-python",
   "name": "python",
   "nbconvert_exporter": "python",
   "pygments_lexer": "ipython3",
   "version": "3.6.3"
  }
 },
 "nbformat": 4,
 "nbformat_minor": 2
}
