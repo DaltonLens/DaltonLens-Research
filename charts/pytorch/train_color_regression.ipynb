{
 "cells": [
  {
   "cell_type": "code",
   "execution_count": 1,
   "metadata": {},
   "outputs": [],
   "source": [
    "%load_ext autoreload\n",
    "%autoreload 2"
   ]
  },
  {
   "cell_type": "code",
   "execution_count": 2,
   "metadata": {},
   "outputs": [
    {
     "name": "stdout",
     "output_type": "stream",
     "text": [
      "Note: you may need to restart the kernel to use updated packages.\n"
     ]
    }
   ],
   "source": [
    "%pip install -q torchvision pandas"
   ]
  },
  {
   "cell_type": "code",
   "execution_count": 21,
   "metadata": {},
   "outputs": [],
   "source": [
    "from charts.common.dataset import LabeledImage\n",
    "\n",
    "import torch\n",
    "from torch.utils.data import Dataset, DataLoader, random_split\n",
    "from torchvision.io import read_image\n",
    "\n",
    "import pandas as pd\n",
    "\n",
    "import os\n",
    "from pathlib import Path"
   ]
  },
  {
   "cell_type": "code",
   "execution_count": 10,
   "metadata": {},
   "outputs": [
    {
     "data": {
      "text/plain": [
       "[img-00000-000.json, img-00000-001.json]"
      ]
     },
     "execution_count": 10,
     "metadata": {},
     "output_type": "execute_result"
    }
   ],
   "source": [
    "img_dir = Path('../../generated/drawings')\n",
    "json_files = sorted(img_dir.glob(\"img-?????-???.json\"))\n",
    "labeled_images = list(map(LabeledImage, json_files))\n",
    "labeled_images[0:2]"
   ]
  },
  {
   "cell_type": "code",
   "execution_count": 34,
   "metadata": {},
   "outputs": [],
   "source": [
    "class ColorRegressionImageDataset(Dataset):\n",
    "    def __init__(self, img_dir, transform=None, target_transform=None):\n",
    "        self.img_dir = img_dir\n",
    "        self.transform = transform\n",
    "        self.target_transform = target_transform\n",
    "\n",
    "        json_files = sorted(img_dir.glob(\"img-?????-???.json\"))\n",
    "        self.labeled_images = list(map(LabeledImage, json_files))\n",
    "\n",
    "    def __len__(self):\n",
    "        return len(self.labeled_images)\n",
    "\n",
    "    def __getitem__(self, idx):\n",
    "        labeled_img = self.labeled_images[idx]\n",
    "        labeled_img.ensure_images_loaded()\n",
    "        image = labeled_img.rendered_image\n",
    "        labels_image = labeled_img.labels_image\n",
    "        labeled_img.release_images()\n",
    "        if self.transform:\n",
    "            image = self.transform(image)\n",
    "        if self.target_transform:\n",
    "            labels_image = self.target_transform(labels_image)\n",
    "        return image, labels_image, repr(self.labeled_images[idx])\n",
    "\n",
    "    def __repr__(self):\n",
    "        return f\"{len(self)} images, first is {self.labeled_images[0]}, last is {self.labeled_images[-1]}\""
   ]
  },
  {
   "cell_type": "code",
   "execution_count": 35,
   "metadata": {},
   "outputs": [],
   "source": [
    "dataset = ColorRegressionImageDataset(Path('../../generated/drawings'))\n",
    "n_train = len(dataset) // 2\n",
    "n_test = len(dataset) - n_train\n",
    "train_dataset, test_dataset = random_split(dataset, [n_train, n_test], generator=torch.Generator().manual_seed(42))"
   ]
  },
  {
   "cell_type": "code",
   "execution_count": 44,
   "metadata": {},
   "outputs": [
    {
     "data": {
      "text/plain": [
       "['img-00005-042.json',\n",
       " 'img-00006-018.json',\n",
       " 'img-00008-016.json',\n",
       " 'img-00000-068.json',\n",
       " 'img-00000-094.json',\n",
       " 'img-00002-015.json',\n",
       " 'img-00000-060.json',\n",
       " 'img-00005-085.json',\n",
       " 'img-00009-042.json',\n",
       " 'img-00001-065.json']"
      ]
     },
     "metadata": {},
     "output_type": "display_data"
    },
    {
     "data": {
      "text/plain": [
       "['img-00008-082.json',\n",
       " 'img-00003-019.json',\n",
       " 'img-00001-001.json',\n",
       " 'img-00005-078.json',\n",
       " 'img-00008-062.json',\n",
       " 'img-00004-063.json',\n",
       " 'img-00002-078.json',\n",
       " 'img-00006-063.json',\n",
       " 'img-00006-071.json',\n",
       " 'img-00007-038.json']"
      ]
     },
     "metadata": {},
     "output_type": "display_data"
    }
   ],
   "source": [
    "display([v[2] for v in list(train_dataset)[0:10]])\n",
    "display([v[2] for v in list(test_dataset)[0:10]])"
   ]
  },
  {
   "cell_type": "code",
   "execution_count": null,
   "metadata": {},
   "outputs": [],
   "source": []
  }
 ],
 "metadata": {
  "interpreter": {
   "hash": "016a8caea8d0bcbcb0f585ee40a090ed0405075dd6b5b528270a2e6b8c256090"
  },
  "kernelspec": {
   "display_name": "Python 3.8.10 64-bit ('venv': venv)",
   "language": "python",
   "name": "python3"
  },
  "language_info": {
   "codemirror_mode": {
    "name": "ipython",
    "version": 3
   },
   "file_extension": ".py",
   "mimetype": "text/x-python",
   "name": "python",
   "nbconvert_exporter": "python",
   "pygments_lexer": "ipython3",
   "version": "3.8.10"
  },
  "orig_nbformat": 4
 },
 "nbformat": 4,
 "nbformat_minor": 2
}
