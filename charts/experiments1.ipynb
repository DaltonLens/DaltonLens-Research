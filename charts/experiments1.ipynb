{
 "cells": [
  {
   "cell_type": "code",
   "execution_count": null,
   "metadata": {},
   "outputs": [],
   "source": [
    "# pip install -q opencv-python\n",
    "# !pip install --upgrade pyreadline\n",
    "# !pip install torchsummary \n",
    "# !pip install --upgrade fastai"
   ]
  },
  {
   "cell_type": "code",
   "execution_count": null,
   "metadata": {},
   "outputs": [],
   "source": [
    "import matplotlib\n",
    "import matplotlib.pyplot as plt"
   ]
  },
  {
   "cell_type": "code",
   "execution_count": null,
   "metadata": {},
   "outputs": [],
   "source": [
    "import argparse"
   ]
  },
  {
   "cell_type": "code",
   "execution_count": null,
   "metadata": {},
   "outputs": [],
   "source": [
    "import generate_opencv_gt_images"
   ]
  },
  {
   "cell_type": "code",
   "execution_count": null,
   "metadata": {},
   "outputs": [],
   "source": [
    "from fastai.vision.all import *"
   ]
  },
  {
   "cell_type": "code",
   "execution_count": null,
   "metadata": {},
   "outputs": [],
   "source": [
    "from torch.utils.tensorboard import SummaryWriter\n",
    "torch.cuda.memory_allocated(0) / 1024.0 / 1024."
   ]
  },
  {
   "cell_type": "code",
   "execution_count": null,
   "metadata": {},
   "outputs": [],
   "source": [
    "generate_data = True\n",
    "args = argparse.Namespace()\n",
    "args.output_dir = \"test1_train\"\n",
    "args.debug = False\n",
    "args.num_drawings = 5000\n",
    "args.num_images_per_drawing = 1\n",
    "if generate_data:\n",
    "    generate_opencv_gt_images.run(args)"
   ]
  },
  {
   "cell_type": "code",
   "execution_count": null,
   "metadata": {},
   "outputs": [],
   "source": [
    "input_path = Path(args.output_dir)\n",
    "input_path.ls()"
   ]
  },
  {
   "cell_type": "code",
   "execution_count": null,
   "metadata": {},
   "outputs": [],
   "source": [
    "def get_dl_image_files(path):\n",
    "    return [path / f.stem for f in path.glob(\"img-?????-???.json\")]\n",
    "\n",
    "def get_dl_target_image(fprefix: Path):\n",
    "    return fprefix.with_suffix(\".aliased.png\")\n",
    "\n",
    "def get_dl_source_image(fprefix: Path):\n",
    "    return fprefix.with_suffix(\".rendered.png\")"
   ]
  },
  {
   "cell_type": "code",
   "execution_count": null,
   "metadata": {},
   "outputs": [],
   "source": [
    "# input_prefixes = get_dl_image_files(input_path)\n",
    "# images = [f.with_suffix(\".rendered.png\") for f in input_prefixes]\n",
    "# pil_images = [PILImage.create(f) for f in images]\n",
    "# show_images(pil_images)"
   ]
  },
  {
   "cell_type": "code",
   "execution_count": null,
   "metadata": {},
   "outputs": [],
   "source": [
    "dblock = DataBlock(blocks=(ImageBlock, ImageBlock),\n",
    "                           get_items = get_dl_image_files,\n",
    "                           get_y     = get_dl_target_image,\n",
    "                           get_x     = get_dl_source_image,                   \n",
    "                           splitter  = RandomSplitter())\n",
    "dls = dblock.dataloaders(input_path, bs=6)\n",
    "dsets = dblock.datasets(input_path)\n",
    "dls.show_batch()"
   ]
  },
  {
   "cell_type": "code",
   "execution_count": null,
   "metadata": {},
   "outputs": [],
   "source": [
    "mean, std = model_meta.get(models.resnet18)['stats']\n",
    "mean = torch.tensor(mean).cuda()\n",
    "std = torch.tensor(std).cuda()\n",
    "# print (mean, std)\n",
    "# dls.c = 3 # number of outputs\n",
    "# dblock.summary(input_path)\n",
    "def metric_l1_raw_image(x,y):\n",
    "    #print (x.shape)\n",
    "    #print (y.shape)\n",
    "    # * std + mean\n",
    "    diff = (x-y).abs()\n",
    "    # print (diff)\n",
    "    # print (255.0*diff)\n",
    "    for c in range(0,3):\n",
    "        diff[:,c,:,:] *= std[c] # FIXME there must be a way to avoid the loop\n",
    "    #print (255.0*diff)\n",
    "    return 255.0 * diff.mean()"
   ]
  },
  {
   "cell_type": "code",
   "execution_count": null,
   "metadata": {},
   "outputs": [],
   "source": [
    "learn = unet_learner(dls, arch=models.resnet18, loss_func=nn.MSELoss(), n_out=3, metrics=AvgMetric(metric_l1_raw_image))"
   ]
  },
  {
   "cell_type": "code",
   "execution_count": null,
   "metadata": {},
   "outputs": [],
   "source": [
    "#dblock.summary(input_path)"
   ]
  },
  {
   "cell_type": "code",
   "execution_count": null,
   "metadata": {},
   "outputs": [],
   "source": [
    "# learn.load(\"model1.ai\")"
   ]
  },
  {
   "cell_type": "code",
   "execution_count": null,
   "metadata": {},
   "outputs": [],
   "source": [
    "# writer = SummaryWriter()\n",
    "# writer.add_graph(learn.model.cpu(), first(dls.valid)[0].cpu())"
   ]
  },
  {
   "cell_type": "code",
   "execution_count": null,
   "metadata": {},
   "outputs": [],
   "source": [
    "# learn.lr_find()"
   ]
  },
  {
   "cell_type": "code",
   "execution_count": null,
   "metadata": {},
   "outputs": [],
   "source": [
    "print ('Occupied mem: ', torch.cuda.memory_allocated(0) / 1024.0 / 1024.)"
   ]
  },
  {
   "cell_type": "code",
   "execution_count": null,
   "metadata": {},
   "outputs": [],
   "source": [
    "learn.lr = 2e-3\n",
    "learn.fine_tune(40)"
   ]
  },
  {
   "cell_type": "code",
   "execution_count": null,
   "metadata": {},
   "outputs": [],
   "source": [
    "b = dls.valid.one_batch()\n",
    "_,_,preds = learn.get_preds(dl=[b], with_decoded=True)"
   ]
  },
  {
   "cell_type": "code",
   "execution_count": null,
   "metadata": {},
   "outputs": [],
   "source": [
    "dls.show_batch()"
   ]
  },
  {
   "cell_type": "code",
   "execution_count": null,
   "metadata": {},
   "outputs": [],
   "source": [
    "learn.save(\"model2.ai\")"
   ]
  },
  {
   "cell_type": "code",
   "execution_count": null,
   "metadata": {},
   "outputs": [],
   "source": [
    "# FIXME: why the valid metric does not match the typical values we find here of ~2\n",
    "\n",
    "input = dls.decode_batch(dls.one_batch())[0]\n",
    "test_img = input[0]\n",
    "gt_img = input[1]\n",
    "\n",
    "predicted_img = learn.predict(test_img)\n",
    "\n",
    "display(predicted_img[0][:,0,0])\n",
    "display(predicted_img[1][:,0,0])\n",
    "display(predicted_img[2][:,0,0])\n",
    "display(predicted_img[2][:,0,0]*255.0)\n",
    "display(gt_img[:,0,0])\n",
    "\n",
    "# FIXME: can't figure out the decoding actually applied to predicted_img. It seems off.\n",
    "# predicted_img[2] is fine once normalized, predicted_ing[0] is supposed to be the\n",
    "# perfect one but it's not.\n",
    "\n",
    "# preds = learn.get_preds(dls.valid, with_input=True, with_decoded=True)\n",
    "plt.imshow(test_img.permute(1, 2, 0))\n",
    "plt.figure()\n",
    "plt.imshow(gt_img.permute(1, 2, 0))\n",
    "plt.figure()\n",
    "plt.imshow(predicted_img[2].permute(1, 2, 0))\n",
    "(gt_img - predicted_img[2]*255.0).abs().mean()\n",
    "metric_l1_raw_image((gt_img / 255.0).unsqueeze(1).cuda(), predicted_img[2].unsqueeze(1).cuda())"
   ]
  },
  {
   "cell_type": "code",
   "execution_count": null,
   "metadata": {},
   "outputs": [],
   "source": [
    "dls.decode((np.ones((1,3,256,256)), np.ones((1,3,256,256))))unsqueeze"
   ]
  },
  {
   "cell_type": "code",
   "execution_count": null,
   "metadata": {},
   "outputs": [],
   "source": [
    "fname = Path(\"./downloaded.jpg\")\n",
    "if fname.exists(): os.remove(fname)\n",
    "# url = \"https://www.r-graph-gallery.com/img/graph/lineplot-spaghetti1.png\"\n",
    "url = \"http://www.telesens.co/wp-content/uploads/2018/03/img_5aa5827c1d42c.png\"\n",
    "download_url(url, fname)\n",
    "assert fname.exists()"
   ]
  },
  {
   "cell_type": "code",
   "execution_count": null,
   "metadata": {},
   "outputs": [],
   "source": [
    "Path().resolve().parent.parent.ls()"
   ]
  },
  {
   "cell_type": "code",
   "execution_count": null,
   "metadata": {},
   "outputs": [],
   "source": [
    "fname = Path().resolve().parent.parent / 'Plots' / 'Industry_GDP.png'\n",
    "input = PILImage.create(fname)\n",
    "show_images([input, learn.predict(input)[2]], figsize=(64,64))"
   ]
  },
  {
   "cell_type": "code",
   "execution_count": null,
   "metadata": {},
   "outputs": [],
   "source": [
    "class HistogramPerLabel:\n",
    "    def __init__(self, im, labels):\n",
    "        self.histogram = {}\n",
    "        hsv_im = cv2.cvtColor(im, cv2.COLOR_RGB2HSV)\n",
    "        for l in labels:\n",
    "            self.histogram[l] = compute_histogram_for_label(l, hsv_im, labels)\n",
    "            \n",
    "    def compute_histogram_for_label(l, hsv_im, labels):\n",
    "        numpy.histogram()"
   ]
  },
  {
   "cell_type": "code",
   "execution_count": null,
   "metadata": {},
   "outputs": [],
   "source": [
    "histogram[label][hsv] -> count"
   ]
  },
  {
   "cell_type": "code",
   "execution_count": null,
   "metadata": {},
   "outputs": [],
   "source": [
    "def metric_segmentation_accuracy_from_color_thresholding(rgb_im, labels):\n",
    "    "
   ]
  }
 ],
 "metadata": {
  "kernelspec": {
   "display_name": "Python 3",
   "language": "python",
   "name": "python3"
  }
 },
 "nbformat": 4,
 "nbformat_minor": 4
}
